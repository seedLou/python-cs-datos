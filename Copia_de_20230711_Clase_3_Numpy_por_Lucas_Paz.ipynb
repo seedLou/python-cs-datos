{
  "cells": [
    {
      "cell_type": "markdown",
      "metadata": {
        "id": "view-in-github",
        "colab_type": "text"
      },
      "source": [
        "<a href=\"https://colab.research.google.com/github/seedLou/python-cs-datos/blob/main/Copia_de_20230711_Clase_3_Numpy_por_Lucas_Paz.ipynb\" target=\"_parent\"><img src=\"https://colab.research.google.com/assets/colab-badge.svg\" alt=\"Open In Colab\"/></a>"
      ]
    },
    {
      "cell_type": "markdown",
      "metadata": {
        "id": "1qK5hGNp-o6o"
      },
      "source": [
        "# Introducción a NumPy\n",
        "Este notebook proporciona una introducción básica a NumPy, destacando algunas de sus características clave y mostrando ejemplos de su uso."
      ],
      "id": "1qK5hGNp-o6o"
    },
    {
      "cell_type": "markdown",
      "metadata": {
        "id": "EhfjWsse-o6r"
      },
      "source": [
        "## Comparación entre uso de vectores de Python y NumPy\n",
        "A continuación se presentan cinco comparaciones en el funcionamiento de vectores en Python puro y NumPy:"
      ],
      "id": "EhfjWsse-o6r"
    },
    {
      "cell_type": "markdown",
      "metadata": {
        "id": "c294f2JK-o6s"
      },
      "source": [
        "#### Comparación 1: Creación de vectores\n",
        "En esta celda, se importa la biblioteca NumPy y se crea un vector utilizando Python puro y NumPy. Luego, se imprime cada uno de los vectores."
      ],
      "id": "c294f2JK-o6s"
    },
    {
      "cell_type": "code",
      "execution_count": null,
      "metadata": {
        "colab": {
          "base_uri": "https://localhost:8080/"
        },
        "id": "_HV2dLLF-o6s",
        "outputId": "d5e5d73b-41fd-41da-cc31-1794415e1dc2"
      },
      "outputs": [
        {
          "output_type": "stream",
          "name": "stdout",
          "text": [
            "Vector en Python puro: [1, 2, 3, 4, 5]\n",
            "Vector en NumPy: [1 2 3 4 5]\n"
          ]
        }
      ],
      "source": [
        "import numpy as np\n",
        "vector_py = [1, 2, 3, 4, 5]\n",
        "vector_np = np.array([1, 2, 3, 4, 5])\n",
        "print(\"Vector en Python puro:\", vector_py)\n",
        "print(\"Vector en NumPy:\", vector_np)"
      ],
      "id": "_HV2dLLF-o6s"
    },
    {
      "cell_type": "markdown",
      "metadata": {
        "id": "dMFB7By3-o6t"
      },
      "source": [
        "#### Comparación 2: Operaciones matemáticas\n",
        "En esta celda, se realizan operaciones matemáticas en un vector utilizando Python puro y NumPy. Luego, se imprime el resultado de cada operación."
      ],
      "id": "dMFB7By3-o6t"
    },
    {
      "cell_type": "code",
      "execution_count": null,
      "metadata": {
        "colab": {
          "base_uri": "https://localhost:8080/"
        },
        "id": "fu-4G2Ut-o6t",
        "outputId": "c91ceb43-8004-4bee-8f5f-f91e7978e614"
      },
      "outputs": [
        {
          "output_type": "stream",
          "name": "stdout",
          "text": [
            "Suma en Python puro: [3, 4, 5, 6, 7]\n",
            "Suma en NumPy: [3 4 5 6 7]\n"
          ]
        }
      ],
      "source": [
        "vector_py = [1, 2, 3, 4, 5]\n",
        "vector_np = np.array([1, 2, 3, 4, 5])\n",
        "suma_py = [x + 2 for x in vector_py]\n",
        "suma_np = vector_np + 2\n",
        "print(\"Suma en Python puro:\", suma_py)\n",
        "print(\"Suma en NumPy:\", suma_np)"
      ],
      "id": "fu-4G2Ut-o6t"
    },
    {
      "cell_type": "markdown",
      "metadata": {
        "id": "zNYiFFjG-o6u"
      },
      "source": [
        "#### Comparación 3: Indexado y segmentación\n",
        "En esta celda, se realiza el indexado y segmentación en un vector utilizando Python puro y NumPy. Luego, se imprime el resultado de cada operación."
      ],
      "id": "zNYiFFjG-o6u"
    },
    {
      "cell_type": "code",
      "execution_count": null,
      "metadata": {
        "colab": {
          "base_uri": "https://localhost:8080/"
        },
        "id": "c-PIchEg-o6u",
        "outputId": "f301d39e-035d-4a03-e171-e159d7497d28"
      },
      "outputs": [
        {
          "output_type": "stream",
          "name": "stdout",
          "text": [
            "Segmento en Python puro: [2, 3, 4]\n",
            "Segmento en NumPy: [2 3 4]\n"
          ]
        }
      ],
      "source": [
        "vector_py = [1, 2, 3, 4, 5]\n",
        "vector_np = np.array([1, 2, 3, 4, 5])\n",
        "segmento_py = vector_py[1:4]\n",
        "segmento_np = vector_np[1:4]\n",
        "print(\"Segmento en Python puro:\", segmento_py)\n",
        "print(\"Segmento en NumPy:\", segmento_np)"
      ],
      "id": "c-PIchEg-o6u"
    },
    {
      "cell_type": "markdown",
      "metadata": {
        "id": "eXzkUDjx-o6u"
      },
      "source": [
        "#### Comparación 4: Funciones matemáticas\n",
        "En esta celda, se aplican funciones matemáticas a un vector utilizando Python puro y NumPy. Luego, se imprime el resultado de cada función."
      ],
      "id": "eXzkUDjx-o6u"
    },
    {
      "cell_type": "code",
      "execution_count": null,
      "metadata": {
        "colab": {
          "base_uri": "https://localhost:8080/"
        },
        "id": "t12Cq_uD-o6u",
        "outputId": "74f757d9-7ad6-48bc-e369-93ab41cf9cf0"
      },
      "outputs": [
        {
          "output_type": "stream",
          "name": "stdout",
          "text": [
            "Raíz cuadrada en Python puro: [1.0, 1.4142135623730951, 1.7320508075688772, 2.0, 2.23606797749979]\n",
            "Raíz cuadrada en NumPy: [1.         1.41421356 1.73205081 2.         2.23606798]\n"
          ]
        }
      ],
      "source": [
        "import math\n",
        "vector_py = [1, 2, 3, 4, 5]\n",
        "vector_np = np.array([1, 2, 3, 4, 5])\n",
        "raiz_cuadrada_py = [math.sqrt(x) for x in vector_py]\n",
        "raiz_cuadrada_np = np.sqrt(vector_np)\n",
        "print(\"Raíz cuadrada en Python puro:\", raiz_cuadrada_py)\n",
        "print(\"Raíz cuadrada en NumPy:\", raiz_cuadrada_np)"
      ],
      "id": "t12Cq_uD-o6u"
    },
    {
      "cell_type": "markdown",
      "metadata": {
        "id": "bry8WTMN-o6v"
      },
      "source": [
        "#### Comparación 5: Rendimiento\n",
        "En esta celda, se mide el rendimiento de operaciones en un vector utilizando Python puro y NumPy. Se imprime el tiempo de ejecución de cada operación."
      ],
      "id": "bry8WTMN-o6v"
    },
    {
      "cell_type": "code",
      "execution_count": null,
      "metadata": {
        "colab": {
          "base_uri": "https://localhost:8080/"
        },
        "id": "JabuzFhf-o6v",
        "outputId": "31c820cb-2b50-43d3-c1da-7dcfe987bfde"
      },
      "outputs": [
        {
          "output_type": "stream",
          "name": "stdout",
          "text": [
            "Tiempo en Python puro: 0.04453635215759277 segundos\n",
            "Tiempo en NumPy: 0.0014455318450927734 segundos\n"
          ]
        }
      ],
      "source": [
        "import time\n",
        "vector_py = [i for i in range(1000000)]\n",
        "vector_np = np.arange(1000000)\n",
        "\n",
        "start_time = time.time()\n",
        "[x * 2 for x in vector_py]\n",
        "end_time = time.time()\n",
        "print(\"Tiempo en Python puro:\", end_time - start_time, \"segundos\")\n",
        "\n",
        "start_time = time.time()\n",
        "vector_np * 2\n",
        "end_time = time.time()\n",
        "print(\"Tiempo en NumPy:\", end_time - start_time, \"segundos\")"
      ],
      "id": "JabuzFhf-o6v"
    },
    {
      "cell_type": "markdown",
      "metadata": {
        "id": "v5GzRhOK-o6v"
      },
      "source": [
        "## Operaciones entre vectores y matrices\n",
        "A continuación se presentan algunos ejemplos de operaciones básicas entre vectores y matrices utilizando NumPy:"
      ],
      "id": "v5GzRhOK-o6v"
    },
    {
      "cell_type": "markdown",
      "metadata": {
        "id": "KE93Crg_-o6v"
      },
      "source": [
        "#### Suma de vectores\n",
        "En esta celda, se crea un vector 'vector_a' y un vector 'vector_b', y se realiza la suma de ambos vectores utilizando NumPy. Luego, se imprime el resultado."
      ],
      "id": "KE93Crg_-o6v"
    },
    {
      "cell_type": "code",
      "execution_count": null,
      "metadata": {
        "colab": {
          "base_uri": "https://localhost:8080/"
        },
        "id": "rAzW3AvC-o6v",
        "outputId": "bc7cbaa7-443c-43d6-afab-76569617a00a"
      },
      "outputs": [
        {
          "output_type": "stream",
          "name": "stdout",
          "text": [
            "Suma de vectores: [5 7 9]\n"
          ]
        }
      ],
      "source": [
        "vector_a = np.array([1, 2, 3])\n",
        "vector_b = np.array([4, 5, 6])\n",
        "suma_vector = vector_a + vector_b\n",
        "print(\"Suma de vectores:\", suma_vector)"
      ],
      "id": "rAzW3AvC-o6v"
    },
    {
      "cell_type": "markdown",
      "metadata": {
        "id": "L47R-HpI-o6v"
      },
      "source": [
        "#### Resta de vectores\n",
        "En esta celda, se crea un vector 'vector_a' y un vector 'vector_b', y se realiza la resta de ambos vectores utilizando NumPy. Luego, se imprime el resultado."
      ],
      "id": "L47R-HpI-o6v"
    },
    {
      "cell_type": "code",
      "execution_count": null,
      "metadata": {
        "colab": {
          "base_uri": "https://localhost:8080/"
        },
        "id": "5xARfuy7-o6w",
        "outputId": "fb2ca164-b2f2-4fdb-a5e4-66ebf2e90fe8"
      },
      "outputs": [
        {
          "output_type": "stream",
          "name": "stdout",
          "text": [
            "Resta de vectores: [-3 -3 -3]\n"
          ]
        }
      ],
      "source": [
        "vector_a = np.array([1, 2, 3])\n",
        "vector_b = np.array([4, 5, 6])\n",
        "resta_vector = vector_a - vector_b\n",
        "print(\"Resta de vectores:\", resta_vector)"
      ],
      "id": "5xARfuy7-o6w"
    },
    {
      "cell_type": "markdown",
      "metadata": {
        "id": "cxc0ZTiF-o6w"
      },
      "source": [
        "#### Multiplicación de vectores\n",
        "En esta celda, se crea un vector 'vector_a' y un vector 'vector_b', y se realiza la multiplicación elemento a elemento de ambos vectores utilizando NumPy. Luego, se imprime el resultado."
      ],
      "id": "cxc0ZTiF-o6w"
    },
    {
      "cell_type": "code",
      "execution_count": null,
      "metadata": {
        "colab": {
          "base_uri": "https://localhost:8080/"
        },
        "id": "PuDQG--f-o6w",
        "outputId": "1fd36e04-9458-4086-e7d7-326d706608de"
      },
      "outputs": [
        {
          "output_type": "stream",
          "name": "stdout",
          "text": [
            "Multiplicación de vectores: [ 4 10 18]\n"
          ]
        }
      ],
      "source": [
        "vector_a = np.array([1, 2, 3])\n",
        "vector_b = np.array([4, 5, 6])\n",
        "multiplicacion_vector = vector_a * vector_b\n",
        "print(\"Multiplicación de vectores:\", multiplicacion_vector)"
      ],
      "id": "PuDQG--f-o6w"
    },
    {
      "cell_type": "markdown",
      "metadata": {
        "id": "c1vMuYnG-o6w"
      },
      "source": [
        "#### Norma de un vector\n",
        "En esta celda, se crea un vector 'vector' y se calcula su norma utilizando la función np.linalg.norm() de NumPy. Luego, se imprime el resultado."
      ],
      "id": "c1vMuYnG-o6w"
    },
    {
      "cell_type": "code",
      "execution_count": null,
      "metadata": {
        "colab": {
          "base_uri": "https://localhost:8080/"
        },
        "id": "lgJgFlbs-o6w",
        "outputId": "656ad420-8265-45da-dec2-bd53f1c9def3"
      },
      "outputs": [
        {
          "output_type": "stream",
          "name": "stdout",
          "text": [
            "Norma del vector: 3.7416573867739413\n"
          ]
        }
      ],
      "source": [
        "vector = np.array([1, 2, 3])\n",
        "norma_vector = np.linalg.norm(vector)\n",
        "print(\"Norma del vector:\", norma_vector)"
      ],
      "id": "lgJgFlbs-o6w"
    },
    {
      "cell_type": "markdown",
      "metadata": {
        "id": "iqiM6a2i-o6x"
      },
      "source": [
        "## Redimensionar un NumPy\n",
        "A continuación se presentan dos ejemplos de redimensionamiento de un NumPy:"
      ],
      "id": "iqiM6a2i-o6x"
    },
    {
      "cell_type": "markdown",
      "metadata": {
        "id": "fkDQpzMo-o6x"
      },
      "source": [
        "#### Redimensionamiento 1\n",
        "En esta celda, se crea un NumPy 'array' y se utiliza la función reshape() de NumPy para redimensionarlo a una forma diferente. Luego, se imprime el nuevo array."
      ],
      "id": "fkDQpzMo-o6x"
    },
    {
      "cell_type": "code",
      "execution_count": null,
      "metadata": {
        "colab": {
          "base_uri": "https://localhost:8080/"
        },
        "id": "zg5ygnQ6-o6x",
        "outputId": "0e42aac4-2d48-4332-8d0f-02c567f728f4"
      },
      "outputs": [
        {
          "output_type": "stream",
          "name": "stdout",
          "text": [
            "Nuevo array redimensionado: [[1 2 3]\n",
            " [4 5 6]]\n"
          ]
        }
      ],
      "source": [
        "array = np.array([1, 2, 3, 4, 5, 6])\n",
        "nuevo_array = array.reshape((2, 3))\n",
        "print(\"Nuevo array redimensionado:\", nuevo_array)"
      ],
      "id": "zg5ygnQ6-o6x"
    },
    {
      "cell_type": "markdown",
      "metadata": {
        "id": "2xfwP-s5-o6x"
      },
      "source": [
        "#### Redimensionamiento 2\n",
        "En esta celda, se crea un NumPy 'array' y se utiliza la función np.resize() de NumPy para redimensionarlo a una forma diferente. Luego, se imprime el nuevo array."
      ],
      "id": "2xfwP-s5-o6x"
    },
    {
      "cell_type": "code",
      "execution_count": null,
      "metadata": {
        "colab": {
          "base_uri": "https://localhost:8080/"
        },
        "id": "cNbF-5i3-o6x",
        "outputId": "b035ab91-3b2e-447d-f98c-b3729952ad7c"
      },
      "outputs": [
        {
          "output_type": "stream",
          "name": "stdout",
          "text": [
            "Nuevo array redimensionado: [[1 2]\n",
            " [3 4]\n",
            " [5 6]]\n"
          ]
        }
      ],
      "source": [
        "array = np.array([1, 2, 3, 4, 5, 6])\n",
        "nuevo_array = np.resize(array, (3, 2))\n",
        "print(\"Nuevo array redimensionado:\", nuevo_array)"
      ],
      "id": "cNbF-5i3-o6x"
    },
    {
      "cell_type": "markdown",
      "metadata": {
        "id": "bsku-zbV-o6x"
      },
      "source": [
        "## Crear arrays en 0, 1 o aleatorios\n",
        "A continuación se presentan ejemplos de creación de arrays con valores en 0, 1 o aleatorios, así como la conversión de una lista en un array:"
      ],
      "id": "bsku-zbV-o6x"
    },
    {
      "cell_type": "markdown",
      "metadata": {
        "id": "5kuhel3z-o6y"
      },
      "source": [
        "#### Crear array de ceros\n",
        "En esta celda, se utiliza la función np.zeros() de NumPy para crear un array de ceros con una forma específica. Luego, se imprime el array."
      ],
      "id": "5kuhel3z-o6y"
    },
    {
      "cell_type": "code",
      "execution_count": null,
      "metadata": {
        "colab": {
          "base_uri": "https://localhost:8080/"
        },
        "id": "o0ly9s6b-o6y",
        "outputId": "4fd19736-e2c5-4a2d-d546-f68724ab4f30"
      },
      "outputs": [
        {
          "output_type": "stream",
          "name": "stdout",
          "text": [
            "Array de ceros: [[0. 0. 0.]\n",
            " [0. 0. 0.]\n",
            " [0. 0. 0.]]\n"
          ]
        }
      ],
      "source": [
        "zeros_array = np.zeros((3, 3))\n",
        "print(\"Array de ceros:\", zeros_array)"
      ],
      "id": "o0ly9s6b-o6y"
    },
    {
      "cell_type": "markdown",
      "metadata": {
        "id": "5P1euNyL-o6y"
      },
      "source": [
        "#### Crear array de unos\n",
        "En esta celda, se utiliza la función np.ones() de NumPy para crear un array de unos con una forma específica. Luego, se imprime el array."
      ],
      "id": "5P1euNyL-o6y"
    },
    {
      "cell_type": "code",
      "execution_count": null,
      "metadata": {
        "colab": {
          "base_uri": "https://localhost:8080/"
        },
        "id": "lHVM0ofI-o6y",
        "outputId": "06ff585d-25ae-4cfc-9ccd-c0f2238c93fc"
      },
      "outputs": [
        {
          "output_type": "stream",
          "name": "stdout",
          "text": [
            "Array de unos: [[1. 1. 1. 1.]\n",
            " [1. 1. 1. 1.]]\n"
          ]
        }
      ],
      "source": [
        "ones_array = np.ones((2, 4))\n",
        "print(\"Array de unos:\", ones_array)"
      ],
      "id": "lHVM0ofI-o6y"
    },
    {
      "cell_type": "markdown",
      "metadata": {
        "id": "RY7poYIL-o6y"
      },
      "source": [
        "#### Crear array aleatorio\n",
        "En esta celda, se utiliza la función np.random.rand() de NumPy para crear un array de números aleatorios con una forma específica. Luego, se imprime el array."
      ],
      "id": "RY7poYIL-o6y"
    },
    {
      "cell_type": "code",
      "execution_count": null,
      "metadata": {
        "colab": {
          "base_uri": "https://localhost:8080/"
        },
        "id": "yYNWQ6gM-o6y",
        "outputId": "3444814e-10ae-4e95-fc6a-e94c7a8b57f8"
      },
      "outputs": [
        {
          "output_type": "stream",
          "name": "stdout",
          "text": [
            "Array aleatorio: [[0.63247133 0.02576765 0.36063295]\n",
            " [0.91416924 0.50980638 0.21398453]\n",
            " [0.43553661 0.82855641 0.20306183]]\n"
          ]
        }
      ],
      "source": [
        "random_array = np.random.rand(3, 3)\n",
        "print(\"Array aleatorio:\", random_array)"
      ],
      "id": "yYNWQ6gM-o6y"
    },
    {
      "cell_type": "markdown",
      "metadata": {
        "id": "DPfvx5dE-o6y"
      },
      "source": [
        "#### Convertir lista en array\n",
        "En esta celda, se crea una lista y se utiliza la función np.array() de NumPy para convertir la lista en un array. Luego, se imprime el array."
      ],
      "id": "DPfvx5dE-o6y"
    },
    {
      "cell_type": "code",
      "execution_count": null,
      "metadata": {
        "colab": {
          "base_uri": "https://localhost:8080/"
        },
        "id": "ND1QTEei-o6y",
        "outputId": "923e6b95-f423-4813-a5a6-bf40340eec92"
      },
      "outputs": [
        {
          "output_type": "stream",
          "name": "stdout",
          "text": [
            "Lista convertida en array: [1 2 3 4 5]\n"
          ]
        }
      ],
      "source": [
        "lista = [1, 2, 3, 4, 5]\n",
        "array = np.array(lista)\n",
        "print(\"Lista convertida en array:\", array)"
      ],
      "id": "ND1QTEei-o6y"
    },
    {
      "cell_type": "markdown",
      "metadata": {
        "id": "jyrQncyp-o6z"
      },
      "source": [
        "## Funciones estadísticas para análisis exploratorio de datos\n",
        "A continuación se presentan ejemplos de funciones estadísticas para el análisis exploratorio de datos utilizando NumPy:"
      ],
      "id": "jyrQncyp-o6z"
    },
    {
      "cell_type": "markdown",
      "metadata": {
        "id": "VZ2loIOU-o6z"
      },
      "source": [
        "#### Media\n",
        "En esta celda, se crea un array 'array' y se utiliza la función np.mean() de NumPy para calcular la media del array. Luego, se imprime el resultado."
      ],
      "id": "VZ2loIOU-o6z"
    },
    {
      "cell_type": "code",
      "execution_count": null,
      "metadata": {
        "colab": {
          "base_uri": "https://localhost:8080/"
        },
        "id": "sPE9oXi4-o6z",
        "outputId": "1d8fb214-8b2f-43de-93f8-9ec1e25b59a4"
      },
      "outputs": [
        {
          "output_type": "stream",
          "name": "stdout",
          "text": [
            "Media: 3.0\n"
          ]
        }
      ],
      "source": [
        "array = np.array([1, 2, 3, 4, 5])\n",
        "media = np.mean(array)\n",
        "print(\"Media:\", media)"
      ],
      "id": "sPE9oXi4-o6z"
    },
    {
      "cell_type": "markdown",
      "metadata": {
        "id": "dvEomGsS-o6z"
      },
      "source": [
        "#### Desviación estándar\n",
        "En esta celda, se crea un array 'array' y se utiliza la función np.std() de NumPy para calcular la desviación estándar del array. Luego, se imprime el resultado."
      ],
      "id": "dvEomGsS-o6z"
    },
    {
      "cell_type": "code",
      "execution_count": null,
      "metadata": {
        "colab": {
          "base_uri": "https://localhost:8080/"
        },
        "id": "9V1fmwjN-o66",
        "outputId": "d04a119c-ddda-4eae-aaf4-1d7318411f2c"
      },
      "outputs": [
        {
          "output_type": "stream",
          "name": "stdout",
          "text": [
            "Desviación estándar: 1.4142135623730951\n"
          ]
        }
      ],
      "source": [
        "array = np.array([1, 2, 3, 4, 5])\n",
        "desviacion_estandar = np.std(array)\n",
        "print(\"Desviación estándar:\", desviacion_estandar)"
      ],
      "id": "9V1fmwjN-o66"
    },
    {
      "cell_type": "markdown",
      "metadata": {
        "id": "_Ql_kgVk-o66"
      },
      "source": [
        "#### Valor mínimo\n",
        "En esta celda, se crea un array 'array' y se utiliza la función np.min() de NumPy para encontrar el valor mínimo del array. Luego, se imprime el resultado."
      ],
      "id": "_Ql_kgVk-o66"
    },
    {
      "cell_type": "code",
      "execution_count": null,
      "metadata": {
        "colab": {
          "base_uri": "https://localhost:8080/"
        },
        "id": "4Xsua_Hd-o66",
        "outputId": "7565c55d-e059-46fb-db2e-46e626357d67"
      },
      "outputs": [
        {
          "output_type": "stream",
          "name": "stdout",
          "text": [
            "Valor mínimo: 1\n"
          ]
        }
      ],
      "source": [
        "array = np.array([1, 2, 3, 4, 5])\n",
        "minimo = np.min(array)\n",
        "print(\"Valor mínimo:\", minimo)"
      ],
      "id": "4Xsua_Hd-o66"
    },
    {
      "cell_type": "markdown",
      "metadata": {
        "id": "GVhP0lkq-o66"
      },
      "source": [
        "#### Valor máximo\n",
        "En esta celda, se crea un array 'array' y se utiliza la función np.max() de NumPy para encontrar el valor máximo del array. Luego, se imprime el resultado."
      ],
      "id": "GVhP0lkq-o66"
    },
    {
      "cell_type": "code",
      "execution_count": null,
      "metadata": {
        "colab": {
          "base_uri": "https://localhost:8080/"
        },
        "id": "83u0COEW-o66",
        "outputId": "6362918a-e075-4173-dce1-89a0b331b4c2"
      },
      "outputs": [
        {
          "output_type": "stream",
          "name": "stdout",
          "text": [
            "Valor máximo: 5\n"
          ]
        }
      ],
      "source": [
        "array = np.array([1, 2, 3, 4, 5])\n",
        "maximo = np.max(array)\n",
        "print(\"Valor máximo:\", maximo)"
      ],
      "id": "83u0COEW-o66"
    },
    {
      "cell_type": "markdown",
      "metadata": {
        "id": "lQwZW6nj-o67"
      },
      "source": [
        "## Ploteo de datos con Matplotlib\n",
        "A continuación se presentan ejemplos de diferentes tipos de gráficos utilizando Matplotlib:"
      ],
      "id": "lQwZW6nj-o67"
    },
    {
      "cell_type": "markdown",
      "metadata": {
        "id": "W6xs2svw-o67"
      },
      "source": [
        "#### Gráfico de línea\n",
        "En esta celda, se crea un array 'x' con valores en el rango de 0 a 10 y se utiliza la función np.sin() de NumPy para calcular el seno de cada valor en 'x'. Luego, se utiliza la biblioteca Matplotlib para trazar un gráfico de línea con 'x' en el eje x y 'y' en el eje y. También se agrega etiquetas y un título al gráfico."
      ],
      "id": "W6xs2svw-o67"
    },
    {
      "cell_type": "code",
      "execution_count": null,
      "metadata": {
        "colab": {
          "base_uri": "https://localhost:8080/",
          "height": 472
        },
        "id": "GQGdYmNN-o67",
        "outputId": "400c7810-2834-44f2-ac19-d7767776864f"
      },
      "outputs": [
        {
          "output_type": "display_data",
          "data": {
            "text/plain": [
              "<Figure size 640x480 with 1 Axes>"
            ],
            "image/png": "[encoded data removed]"
          },
          "metadata": {}
        }
      ],
      "source": [
        "import matplotlib.pyplot as plt\n",
        "\n",
        "x = np.arange(0, 10, 0.1)\n",
        "y = np.cos(x)\n",
        "\n",
        "plt.plot(x, y)\n",
        "plt.xlabel('x')\n",
        "plt.ylabel('y')\n",
        "plt.title('Gráfico de línea')\n",
        "plt.show()"
      ],
      "id": "GQGdYmNN-o67"
    },
    {
      "cell_type": "markdown",
      "metadata": {
        "id": "7uMUsI2_-o67"
      },
      "source": [
        "#### Gráfico de dispersión\n",
        "En esta celda, se crea un array 'x' con valores aleatorios y un array 'y' con valores aleatorios. Luego, se utiliza la biblioteca Matplotlib para trazar un gráfico de dispersión con 'x' en el eje x y 'y' en el eje y. También se agrega etiquetas y un título al gráfico."
      ],
      "id": "7uMUsI2_-o67"
    },
    {
      "cell_type": "code",
      "execution_count": null,
      "metadata": {
        "colab": {
          "base_uri": "https://localhost:8080/",
          "height": 472
        },
        "id": "e0S5-Csz-o67",
        "outputId": "72593e4b-c158-403a-c0e9-5da71175f288"
      },
      "outputs": [
        {
          "output_type": "display_data",
          "data": {
            "text/plain": [
              "<Figure size 640x480 with 1 Axes>"
            ],
            "image/png": "[encoded data removed]"
          },
          "metadata": {}
        }
      ],
      "source": [
        "x = np.random.rand(100)\n",
        "y = np.random.rand(100)\n",
        "\n",
        "plt.scatter(x, y)\n",
        "plt.xlabel('x')\n",
        "plt.ylabel('y')\n",
        "plt.title('Gráfico de dispersión')\n",
        "plt.show()"
      ],
      "id": "e0S5-Csz-o67"
    },
    {
      "cell_type": "markdown",
      "metadata": {
        "id": "bSbKBHmZ-o67"
      },
      "source": [
        "En esta celda, se crea un array 'data' con valores aleatorios siguiendo una distribución normal. Luego, se utiliza la biblioteca Matplotlib para trazar un histograma de 'data'. También se agrega etiquetas y un título al gráfico."
      ],
      "id": "bSbKBHmZ-o67"
    },
    {
      "cell_type": "code",
      "execution_count": null,
      "metadata": {
        "colab": {
          "base_uri": "https://localhost:8080/",
          "height": 472
        },
        "id": "gV_7p8Lk-o68",
        "outputId": "91005bfe-d926-4899-c6e8-07d67c8af11c"
      },
      "outputs": [
        {
          "output_type": "display_data",
          "data": {
            "text/plain": [
              "<Figure size 640x480 with 1 Axes>"
            ],
            "image/png": "[encoded data removed]"
          },
          "metadata": {}
        }
      ],
      "source": [
        "data = np.random.normal(0, 1, 1000)\n",
        "\n",
        "plt.hist(data, bins=30)\n",
        "plt.xlabel('Valor')\n",
        "plt.ylabel('Frecuencia')\n",
        "plt.title('Histograma')\n",
        "plt.show()"
      ],
      "id": "gV_7p8Lk-o68"
    },
    {
      "cell_type": "markdown",
      "metadata": {
        "id": "ARC7i9Nm-o68"
      },
      "source": [
        "## Funciones estadísticas más utilizadas\n",
        "A continuación se presentan algunas de las funciones estadísticas más utilizadas en NumPy, junto con su explicación y código de ejemplo:"
      ],
      "id": "ARC7i9Nm-o68"
    },
    {
      "cell_type": "markdown",
      "metadata": {
        "id": "4sympL3v-o68"
      },
      "source": [
        "#### np.mean()\n",
        "La función np.mean() se utiliza para calcular la media de un array.\n",
        "Ejemplo de uso:"
      ],
      "id": "4sympL3v-o68"
    },
    {
      "cell_type": "code",
      "execution_count": null,
      "id": "0c72aeaf",
      "metadata": {
        "colab": {
          "base_uri": "https://localhost:8080/"
        },
        "id": "0c72aeaf",
        "outputId": "42514396-7f90-4406-9adc-fbe1c06a02a7"
      },
      "outputs": [
        {
          "output_type": "stream",
          "name": "stdout",
          "text": [
            "Media: 3.0\n"
          ]
        }
      ],
      "source": [
        "array = np.array([1, 2, 3, 4, 5])\n",
        "media = np.mean(array)\n",
        "print(\"Media:\", media)"
      ]
    },
    {
      "cell_type": "markdown",
      "metadata": {
        "id": "oCGRe3n_-o68"
      },
      "source": [
        "#### np.median()\n",
        "La función np.median() se utiliza para calcular la mediana de un array.\n",
        "Ejemplo de uso:"
      ],
      "id": "oCGRe3n_-o68"
    },
    {
      "cell_type": "code",
      "execution_count": null,
      "id": "37f660c6",
      "metadata": {
        "colab": {
          "base_uri": "https://localhost:8080/"
        },
        "id": "37f660c6",
        "outputId": "2e3257e6-89fd-4ce0-aa6e-329b0e90d0b0"
      },
      "outputs": [
        {
          "output_type": "stream",
          "name": "stdout",
          "text": [
            "Mediana: 3.0\n"
          ]
        }
      ],
      "source": [
        "array = np.array([1, 2, 3, 4, 5])\n",
        "mediana = np.median(array)\n",
        "print(\"Mediana:\", mediana)"
      ]
    },
    {
      "cell_type": "markdown",
      "metadata": {
        "id": "cGl_mErX-o69"
      },
      "source": [
        "#### np.std()\n",
        "La función np.std() se utiliza para calcular la desviación estándar de un array.\n",
        "Ejemplo de uso:"
      ],
      "id": "cGl_mErX-o69"
    },
    {
      "cell_type": "code",
      "execution_count": null,
      "id": "3a8e3e87",
      "metadata": {
        "colab": {
          "base_uri": "https://localhost:8080/"
        },
        "id": "3a8e3e87",
        "outputId": "4791e972-b4d3-4610-eea2-ff97a0cc3d4e"
      },
      "outputs": [
        {
          "output_type": "stream",
          "name": "stdout",
          "text": [
            "Desviación estándar: 1.4142135623730951\n"
          ]
        }
      ],
      "source": [
        "array = np.array([1, 2, 3, 4, 5])\n",
        "desviacion_estandar = np.std(array)\n",
        "print(\"Desviación estándar:\", desviacion_estandar)"
      ]
    },
    {
      "cell_type": "markdown",
      "metadata": {
        "id": "y7XKPmE0-o69"
      },
      "source": [
        "#### np.var()\n",
        "La función np.var() se utiliza para calcular la varianza de un array.\n",
        "Ejemplo de uso:"
      ],
      "id": "y7XKPmE0-o69"
    },
    {
      "cell_type": "code",
      "execution_count": null,
      "id": "5e758a05",
      "metadata": {
        "colab": {
          "base_uri": "https://localhost:8080/"
        },
        "id": "5e758a05",
        "outputId": "d867f331-ebc2-4495-caf8-e171f6ea029d"
      },
      "outputs": [
        {
          "output_type": "stream",
          "name": "stdout",
          "text": [
            "Varianza: 2.0\n"
          ]
        }
      ],
      "source": [
        "array = np.array([1, 2, 3, 4, 5])\n",
        "varianza = np.var(array)\n",
        "print(\"Varianza:\", varianza)"
      ]
    },
    {
      "cell_type": "markdown",
      "metadata": {
        "id": "Dlkgy0Bj-o69"
      },
      "source": [
        "#### np.percentile()\n",
        "La función np.percentile() se utiliza para calcular los percentiles de un array.\n",
        "Ejemplo de uso:"
      ],
      "id": "Dlkgy0Bj-o69"
    },
    {
      "cell_type": "code",
      "execution_count": null,
      "id": "7ffea41c",
      "metadata": {
        "colab": {
          "base_uri": "https://localhost:8080/"
        },
        "id": "7ffea41c",
        "outputId": "cbf20061-63a8-4f90-8889-1ca76340cf84"
      },
      "outputs": [
        {
          "output_type": "stream",
          "name": "stdout",
          "text": [
            "Percentil 50: 3.0\n"
          ]
        }
      ],
      "source": [
        "array = np.array([1, 2, 3, 4, 5])\n",
        "percentil_50 = np.percentile(array, 50)\n",
        "print(\"Percentil 50:\", percentil_50)"
      ]
    }
  ],
  "metadata": {
    "kernelspec": {
      "display_name": "Python 3",
      "language": "python",
      "name": "python3"
    },
    "language_info": {
      "codemirror_mode": {
        "name": "ipython",
        "version": 3
      },
      "file_extension": ".py",
      "mimetype": "text/x-python",
      "name": "python",
      "nbconvert_exporter": "python",
      "pygments_lexer": "ipython3",
      "version": "3.11.1"
    },
    "colab": {
      "provenance": [],
      "include_colab_link": true
    }
  },
  "nbformat": 4,
  "nbformat_minor": 5
}